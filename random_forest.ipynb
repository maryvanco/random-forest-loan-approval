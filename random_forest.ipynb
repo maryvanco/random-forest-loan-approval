{
 "cells": [
  {
   "cell_type": "markdown",
   "id": "a90305b3-4e0c-475d-bb37-c15a8061203e",
   "metadata": {},
   "source": [
    "# Random Forest Analysis\n",
    "\n",
    "**Summary of Project**  \n",
    "The goal of this project was to develop a highly accurate predictive model for loan approval decisions using machine learning techniques, with a focus on Random Forest. The model leverages feature engineering, hyperparameter tuning, and feature selection to optimize performance. The results show that Random Forest outperforms the baseline Logistic Regression model across all evaluation metrics, achieving an impressive accuracy of 99.18%."
   ]
  },
  {
   "cell_type": "markdown",
   "id": "9d788b16-6d1a-497a-9f8c-d092274dd01d",
   "metadata": {},
   "source": [
    "## Load and Prepare Data"
   ]
  },
  {
   "cell_type": "code",
   "execution_count": 133,
   "id": "4da3d14e-8922-4aeb-bfbe-8aaa052b2694",
   "metadata": {},
   "outputs": [],
   "source": [
    "# Import libraries\n",
    "\n",
    "# Data manipulation and visualization\n",
    "import numpy as np\n",
    "import pandas as pd\n",
    "import matplotlib.pyplot as plt\n",
    "import seaborn as sns\n",
    "\n",
    "# Model and evaluation tools\n",
    "from sklearn.preprocessing import StandardScaler\n",
    "from sklearn.ensemble import RandomForestClassifier          # Random Forest model\n",
    "from sklearn.linear_model import LogisticRegression          # Baseline comparison\n",
    "from sklearn.model_selection import train_test_split, cross_val_score, GridSearchCV  # Data splitting and tuning\n",
    "from sklearn.metrics import confusion_matrix, classification_report, roc_auc_score,roc_curve   # Evaluation metrics"
   ]
  },
  {
   "cell_type": "code",
   "execution_count": 205,
   "id": "25d490bf-a5bb-4fa3-a052-98d580544bb8",
   "metadata": {},
   "outputs": [],
   "source": [
    "# Load dataset\n",
    "df = pd.read_csv(\"loan_approval_dataset.csv\")\n",
    "df.columns = df.columns.str.replace(' ', '') # Clean columns\n",
    "df = df.drop(columns=[\"loan_id\"]) # Drop unnecessary columns"
   ]
  },
  {
   "cell_type": "markdown",
   "id": "353613e0-c137-42d9-8902-5a076a190269",
   "metadata": {},
   "source": [
    "#### Create new feature total_asset_value"
   ]
  },
  {
   "cell_type": "code",
   "execution_count": 138,
   "id": "1c53e729-8314-4989-a234-529a42a2ad67",
   "metadata": {},
   "outputs": [
    {
     "data": {
      "text/html": [
       "<div>\n",
       "<style scoped>\n",
       "    .dataframe tbody tr th:only-of-type {\n",
       "        vertical-align: middle;\n",
       "    }\n",
       "\n",
       "    .dataframe tbody tr th {\n",
       "        vertical-align: top;\n",
       "    }\n",
       "\n",
       "    .dataframe thead th {\n",
       "        text-align: right;\n",
       "    }\n",
       "</style>\n",
       "<table border=\"1\" class=\"dataframe\">\n",
       "  <thead>\n",
       "    <tr style=\"text-align: right;\">\n",
       "      <th></th>\n",
       "      <th>no_of_dependents</th>\n",
       "      <th>education</th>\n",
       "      <th>self_employed</th>\n",
       "      <th>income_annum</th>\n",
       "      <th>loan_amount</th>\n",
       "      <th>loan_term</th>\n",
       "      <th>cibil_score</th>\n",
       "      <th>residential_assets_value</th>\n",
       "      <th>commercial_assets_value</th>\n",
       "      <th>luxury_assets_value</th>\n",
       "      <th>bank_asset_value</th>\n",
       "      <th>loan_status</th>\n",
       "      <th>total_asset_value</th>\n",
       "    </tr>\n",
       "  </thead>\n",
       "  <tbody>\n",
       "    <tr>\n",
       "      <th>0</th>\n",
       "      <td>2</td>\n",
       "      <td>Graduate</td>\n",
       "      <td>No</td>\n",
       "      <td>9600000</td>\n",
       "      <td>29900000</td>\n",
       "      <td>12</td>\n",
       "      <td>778</td>\n",
       "      <td>2400000</td>\n",
       "      <td>17600000</td>\n",
       "      <td>22700000</td>\n",
       "      <td>8000000</td>\n",
       "      <td>Approved</td>\n",
       "      <td>50700000</td>\n",
       "    </tr>\n",
       "    <tr>\n",
       "      <th>1</th>\n",
       "      <td>0</td>\n",
       "      <td>Not Graduate</td>\n",
       "      <td>Yes</td>\n",
       "      <td>4100000</td>\n",
       "      <td>12200000</td>\n",
       "      <td>8</td>\n",
       "      <td>417</td>\n",
       "      <td>2700000</td>\n",
       "      <td>2200000</td>\n",
       "      <td>8800000</td>\n",
       "      <td>3300000</td>\n",
       "      <td>Rejected</td>\n",
       "      <td>17000000</td>\n",
       "    </tr>\n",
       "    <tr>\n",
       "      <th>2</th>\n",
       "      <td>3</td>\n",
       "      <td>Graduate</td>\n",
       "      <td>No</td>\n",
       "      <td>9100000</td>\n",
       "      <td>29700000</td>\n",
       "      <td>20</td>\n",
       "      <td>506</td>\n",
       "      <td>7100000</td>\n",
       "      <td>4500000</td>\n",
       "      <td>33300000</td>\n",
       "      <td>12800000</td>\n",
       "      <td>Rejected</td>\n",
       "      <td>57700000</td>\n",
       "    </tr>\n",
       "    <tr>\n",
       "      <th>3</th>\n",
       "      <td>3</td>\n",
       "      <td>Graduate</td>\n",
       "      <td>No</td>\n",
       "      <td>8200000</td>\n",
       "      <td>30700000</td>\n",
       "      <td>8</td>\n",
       "      <td>467</td>\n",
       "      <td>18200000</td>\n",
       "      <td>3300000</td>\n",
       "      <td>23300000</td>\n",
       "      <td>7900000</td>\n",
       "      <td>Rejected</td>\n",
       "      <td>52700000</td>\n",
       "    </tr>\n",
       "    <tr>\n",
       "      <th>4</th>\n",
       "      <td>5</td>\n",
       "      <td>Not Graduate</td>\n",
       "      <td>Yes</td>\n",
       "      <td>9800000</td>\n",
       "      <td>24200000</td>\n",
       "      <td>20</td>\n",
       "      <td>382</td>\n",
       "      <td>12400000</td>\n",
       "      <td>8200000</td>\n",
       "      <td>29400000</td>\n",
       "      <td>5000000</td>\n",
       "      <td>Rejected</td>\n",
       "      <td>55000000</td>\n",
       "    </tr>\n",
       "  </tbody>\n",
       "</table>\n",
       "</div>"
      ],
      "text/plain": [
       "   no_of_dependents      education self_employed  income_annum  loan_amount  \\\n",
       "0                 2       Graduate            No       9600000     29900000   \n",
       "1                 0   Not Graduate           Yes       4100000     12200000   \n",
       "2                 3       Graduate            No       9100000     29700000   \n",
       "3                 3       Graduate            No       8200000     30700000   \n",
       "4                 5   Not Graduate           Yes       9800000     24200000   \n",
       "\n",
       "   loan_term  cibil_score  residential_assets_value  commercial_assets_value  \\\n",
       "0         12          778                   2400000                 17600000   \n",
       "1          8          417                   2700000                  2200000   \n",
       "2         20          506                   7100000                  4500000   \n",
       "3          8          467                  18200000                  3300000   \n",
       "4         20          382                  12400000                  8200000   \n",
       "\n",
       "   luxury_assets_value  bank_asset_value loan_status  total_asset_value  \n",
       "0             22700000           8000000    Approved           50700000  \n",
       "1              8800000           3300000    Rejected           17000000  \n",
       "2             33300000          12800000    Rejected           57700000  \n",
       "3             23300000           7900000    Rejected           52700000  \n",
       "4             29400000           5000000    Rejected           55000000  "
      ]
     },
     "execution_count": 138,
     "metadata": {},
     "output_type": "execute_result"
    }
   ],
   "source": [
    "# Add asset columns\n",
    "df['total_asset_value'] = df['residential_assets_value'] + df['commercial_assets_value'] + df['luxury_assets_value'] + df['bank_asset_value']\n",
    "df.head()"
   ]
  },
  {
   "cell_type": "markdown",
   "id": "13f88bea-6223-4e4e-9295-0aa6e077032c",
   "metadata": {},
   "source": [
    "#### Create numeric dataframe and split data for training and testing"
   ]
  },
  {
   "cell_type": "code",
   "execution_count": 141,
   "id": "beaccc23-c708-4ad4-b10b-9479d79bf3d1",
   "metadata": {},
   "outputs": [],
   "source": [
    "# Create numeric dataframe\n",
    "df = pd.get_dummies(df, dtype=int)\n",
    "df = df.drop(columns=['loan_status_ Rejected', 'education_ Not Graduate', 'self_employed_ No'])"
   ]
  },
  {
   "cell_type": "code",
   "execution_count": 143,
   "id": "d7e8b77d-e61f-4046-8b51-b6f7314543da",
   "metadata": {},
   "outputs": [],
   "source": [
    "X = df.drop('loan_status_ Approved',axis=1)\n",
    "y = df['loan_status_ Approved']"
   ]
  },
  {
   "cell_type": "code",
   "execution_count": 145,
   "id": "9ade2eaa-8694-4d8b-b6e5-3ee2973cecec",
   "metadata": {},
   "outputs": [],
   "source": [
    "# Split data\n",
    "X_train, X_test, y_train, y_test = train_test_split(X, y, test_size=0.2, random_state=24)"
   ]
  },
  {
   "cell_type": "code",
   "execution_count": 151,
   "id": "651149ca-508f-4598-895b-e492b1f1a4b9",
   "metadata": {},
   "outputs": [
    {
     "name": "stdout",
     "output_type": "stream",
     "text": [
      "(3415, 12)\n",
      "(854, 12)\n",
      "(3415,)\n",
      "(854,)\n"
     ]
    }
   ],
   "source": [
    "# Looking at data shapes\n",
    "print(X_train.shape)\n",
    "print(X_test.shape)\n",
    "print(y_train.shape)\n",
    "print(y_test.shape)"
   ]
  },
  {
   "cell_type": "code",
   "execution_count": 149,
   "id": "de1f833b-f859-48af-8279-80bc230dd33a",
   "metadata": {},
   "outputs": [],
   "source": [
    "# Convert to numpy arrays\n",
    "X_train = np.array(X_train)\n",
    "X_test = np.array(X_test)\n",
    "y_train = np.array(y_train)\n",
    "y_test = np.array(y_test)"
   ]
  },
  {
   "cell_type": "markdown",
   "id": "201cf759-3499-4015-a75c-3d09ea4ccc7f",
   "metadata": {},
   "source": [
    "## Logistic Regression Baseline Model\n",
    "\n",
    "The baseline model serves as a reference for evaluating the performance of more complex models. Logistic Regression was chosen due to its simplicity and interpretability, making it an ideal starting point for comparison. To ensure the features were on a comparable scale, StandardScaler was first applied to normalize the data. The results show the model achieved an accuracy of 92.04%, an F1 score of 0.9352, and an AUC of 0.9712. The cross-validation scores indicate consistent performance, with the model achieving an average accuracy of 91.42% and AUC of 0.9670, suggesting that it generalizes well across different subsets of the data."
   ]
  },
  {
   "cell_type": "code",
   "execution_count": 165,
   "id": "11dd4fb9-466c-4bc5-801c-b6c364ff5758",
   "metadata": {
    "scrolled": true
   },
   "outputs": [
    {
     "name": "stdout",
     "output_type": "stream",
     "text": [
      "Classification Report:\n",
      "              precision    recall  f1-score   support\n",
      "\n",
      "           0     0.8806    0.9133    0.8967       323\n",
      "           1     0.9461    0.9247    0.9352       531\n",
      "\n",
      "    accuracy                         0.9204       854\n",
      "   macro avg     0.9133    0.9190    0.9159       854\n",
      "weighted avg     0.9213    0.9204    0.9206       854\n",
      "\n"
     ]
    },
    {
     "data": {
      "image/png": "[encoded data removed]",
      "text/plain": [
       "<Figure size 600x400 with 2 Axes>"
      ]
     },
     "metadata": {},
     "output_type": "display_data"
    },
    {
     "name": "stdout",
     "output_type": "stream",
     "text": [
      "ROC AUC Score: 0.9712\n"
     ]
    },
    {
     "data": {
      "image/png": "[encoded data removed]",
      "text/plain": [
       "<Figure size 600x400 with 1 Axes>"
      ]
     },
     "metadata": {},
     "output_type": "display_data"
    },
    {
     "name": "stdout",
     "output_type": "stream",
     "text": [
      "Cross-Validated Scores (5-fold):\n",
      "Acc: 0.9142 (+/- 0.00)\n",
      "AUC: 0.9670 (+/- 0.01)\n"
     ]
    }
   ],
   "source": [
    "# Standardize features for logistic regression\n",
    "scaler = StandardScaler()\n",
    "X_train_scaled = scaler.fit_transform(X_train)\n",
    "X_test_scaled = scaler.transform(X_test)\n",
    "\n",
    "# Fit logistic regression model\n",
    "log_reg = LogisticRegression(random_state=42)\n",
    "log_reg.fit(X_train_scaled, y_train)\n",
    "\n",
    "y_preds = log_reg.predict(X_test_scaled)\n",
    "y_proba = log_reg.predict_proba(X_test_scaled)[:, 1]\n",
    "\n",
    "# Classification report\n",
    "print(\"Classification Report:\")\n",
    "print(classification_report(y_test, y_preds, digits=4))\n",
    "\n",
    "# Confusion matrix\n",
    "cm = confusion_matrix(y_test, y_preds)\n",
    "plt.figure(figsize=(6,4))\n",
    "sns.heatmap(cm, annot=True, fmt='d', cmap='Blues')\n",
    "plt.xlabel(\"Predicted\")\n",
    "plt.ylabel(\"Actual\")\n",
    "plt.title(\"Confusion Matrix - Logistic Regression\")\n",
    "plt.show()\n",
    "\n",
    "# ROC AUC Score\n",
    "auc = roc_auc_score(y_test, y_proba)\n",
    "print(f\"ROC AUC Score: {auc:.4f}\")\n",
    "\n",
    "fpr, tpr, thresholds = roc_curve(y_test, y_proba)\n",
    "\n",
    "plt.figure(figsize=(6, 4))\n",
    "plt.plot(fpr, tpr, label=f'AUC = {auc:.2f}')\n",
    "plt.plot([0, 1], [0, 1], linestyle='--', color='gray')\n",
    "plt.xlabel(\"False Positive Rate\")\n",
    "plt.ylabel(\"True Positive Rate\")\n",
    "plt.title(\"ROC Curve - Logistic Regression\")\n",
    "plt.legend()\n",
    "plt.show()\n",
    "\n",
    "# Cross-Validation\n",
    "cv_scores_acc = cross_val_score(log_reg, X_train_scaled, y_train, cv=5, scoring='accuracy')\n",
    "cv_scores_auc = cross_val_score(log_reg, X_train_scaled, y_train, cv=5, scoring='roc_auc')\n",
    "\n",
    "print(\"Cross-Validated Scores (5-fold):\")\n",
    "print(f\"Acc: {cv_scores_acc.mean():.4f} (+/- {cv_scores_acc.std():.2f})\")\n",
    "print(f\"AUC: {cv_scores_auc.mean():.4f} (+/- {cv_scores_auc.std():.2f})\")"
   ]
  },
  {
   "cell_type": "markdown",
   "id": "73b5b700-e6be-45b3-9750-4d1c25fc8b32",
   "metadata": {},
   "source": [
    "## Random Forest Model"
   ]
  },
  {
   "cell_type": "markdown",
   "id": "fc2190f2-0677-4862-8c01-ee81aba76218",
   "metadata": {},
   "source": [
    "#### Base model\n",
    "\n",
    "The Random Forest model, using the default hyperparameters, demonstrated strong performance, achieving an accuracy of 98.48%, an F1 score of 0.9877, and an AUC of 0.9995 on the test set. These results significantly outperform the Logistic Regression baseline, which achieved an accuracy of 92% and an AUC of 0.9712. Additionally, the model's cross-validation scores show consistent performance, with an average accuracy of 97.66% and AUC of 0.9957."
   ]
  },
  {
   "cell_type": "code",
   "execution_count": 167,
   "id": "8ac37a43-2ea1-4d67-b703-512b88e6797d",
   "metadata": {},
   "outputs": [
    {
     "name": "stdout",
     "output_type": "stream",
     "text": [
      "Classification Report:\n",
      "              precision    recall  f1-score   support\n",
      "\n",
      "           0     0.9784    0.9814    0.9799       323\n",
      "           1     0.9887    0.9868    0.9877       531\n",
      "\n",
      "    accuracy                         0.9848       854\n",
      "   macro avg     0.9835    0.9841    0.9838       854\n",
      "weighted avg     0.9848    0.9848    0.9848       854\n",
      "\n"
     ]
    },
    {
     "data": {
      "image/png": "[encoded data removed]",
      "text/plain": [
       "<Figure size 640x480 with 2 Axes>"
      ]
     },
     "metadata": {},
     "output_type": "display_data"
    },
    {
     "name": "stdout",
     "output_type": "stream",
     "text": [
      "ROC AUC Score: 0.9995\n",
      "Cross-Validation Scores (5-fold):\n",
      "Acc: 0.9766 (+/- 0.01)\n",
      "AUC: 0.9957 (+/- 0.00)\n"
     ]
    }
   ],
   "source": [
    "# Fit model\n",
    "rf = RandomForestClassifier(random_state=42)   \n",
    "rf.fit(X_train, y_train)\n",
    "\n",
    "y_pred = rf.predict(X_test)\n",
    "y_proba = rf.predict_proba(X_test)[:, 1]\n",
    "\n",
    "# Classification report\n",
    "print(\"Classification Report:\")\n",
    "print(classification_report(y_test, y_pred, digits=4))\n",
    "\n",
    "# Confusion matrix\n",
    "cm = confusion_matrix(y_test, y_pred)\n",
    "sns.heatmap(cm, annot=True, fmt='d', cmap='Blues')\n",
    "plt.xlabel(\"Predicted\")\n",
    "plt.ylabel(\"Actual\")\n",
    "plt.title(\"Confusion Matrix - Random Forest\")\n",
    "plt.show()\n",
    "\n",
    "# ROC AUC Score\n",
    "auc = roc_auc_score(y_test, y_proba)\n",
    "print(f\"ROC AUC Score: {auc:.4f}\")\n",
    "\n",
    "# Cross-Validation Scores\n",
    "cv_scores_acc = cross_val_score(rf, X_train, y_train, cv=5, scoring='accuracy')\n",
    "cv_scores_auc = cross_val_score(rf, X_train, y_train, cv=5, scoring='roc_auc')\n",
    "\n",
    "print(\"Cross-Validation Scores (5-fold):\")\n",
    "print(f\"Acc: {cv_scores_acc.mean():.4f} (+/- {cv_scores_acc.std():.2f})\")\n",
    "print(f\"AUC: {cv_scores_auc.mean():.4f} (+/- {cv_scores_auc.std():.2f})\")"
   ]
  },
  {
   "cell_type": "markdown",
   "id": "ba34eb04-79d4-4c94-98db-eb7b26d9ce75",
   "metadata": {},
   "source": [
    "#### Feature importance\n",
    "\n",
    "The most influential feature in predicting loan approval is Cibil Score (credit score), which stands out as the most important predictor in the model. To enhance model simplicity and efficiency, redundant and less important features were systematically removed. This feature selection process contributed to an improvement in model performance, resulting in higher accuracy and more stable predictions."
   ]
  },
  {
   "cell_type": "code",
   "execution_count": 171,
   "id": "f27e7e5a-c805-4703-b278-0f4970987383",
   "metadata": {},
   "outputs": [
    {
     "data": {
      "text/html": [
       "<div>\n",
       "<style scoped>\n",
       "    .dataframe tbody tr th:only-of-type {\n",
       "        vertical-align: middle;\n",
       "    }\n",
       "\n",
       "    .dataframe tbody tr th {\n",
       "        vertical-align: top;\n",
       "    }\n",
       "\n",
       "    .dataframe thead th {\n",
       "        text-align: right;\n",
       "    }\n",
       "</style>\n",
       "<table border=\"1\" class=\"dataframe\">\n",
       "  <thead>\n",
       "    <tr style=\"text-align: right;\">\n",
       "      <th></th>\n",
       "      <th>Feature</th>\n",
       "      <th>Importance</th>\n",
       "    </tr>\n",
       "  </thead>\n",
       "  <tbody>\n",
       "    <tr>\n",
       "      <th>4</th>\n",
       "      <td>cibil_score</td>\n",
       "      <td>0.804432</td>\n",
       "    </tr>\n",
       "    <tr>\n",
       "      <th>3</th>\n",
       "      <td>loan_term</td>\n",
       "      <td>0.059204</td>\n",
       "    </tr>\n",
       "    <tr>\n",
       "      <th>2</th>\n",
       "      <td>loan_amount</td>\n",
       "      <td>0.027126</td>\n",
       "    </tr>\n",
       "    <tr>\n",
       "      <th>9</th>\n",
       "      <td>total_asset_value</td>\n",
       "      <td>0.017904</td>\n",
       "    </tr>\n",
       "    <tr>\n",
       "      <th>1</th>\n",
       "      <td>income_annum</td>\n",
       "      <td>0.016672</td>\n",
       "    </tr>\n",
       "    <tr>\n",
       "      <th>7</th>\n",
       "      <td>luxury_assets_value</td>\n",
       "      <td>0.016375</td>\n",
       "    </tr>\n",
       "    <tr>\n",
       "      <th>6</th>\n",
       "      <td>commercial_assets_value</td>\n",
       "      <td>0.015694</td>\n",
       "    </tr>\n",
       "    <tr>\n",
       "      <th>5</th>\n",
       "      <td>residential_assets_value</td>\n",
       "      <td>0.015525</td>\n",
       "    </tr>\n",
       "    <tr>\n",
       "      <th>8</th>\n",
       "      <td>bank_asset_value</td>\n",
       "      <td>0.014555</td>\n",
       "    </tr>\n",
       "    <tr>\n",
       "      <th>0</th>\n",
       "      <td>no_of_dependents</td>\n",
       "      <td>0.007798</td>\n",
       "    </tr>\n",
       "    <tr>\n",
       "      <th>11</th>\n",
       "      <td>self_employed_ Yes</td>\n",
       "      <td>0.002428</td>\n",
       "    </tr>\n",
       "    <tr>\n",
       "      <th>10</th>\n",
       "      <td>education_ Graduate</td>\n",
       "      <td>0.002287</td>\n",
       "    </tr>\n",
       "  </tbody>\n",
       "</table>\n",
       "</div>"
      ],
      "text/plain": [
       "                     Feature  Importance\n",
       "4                cibil_score    0.804432\n",
       "3                  loan_term    0.059204\n",
       "2                loan_amount    0.027126\n",
       "9          total_asset_value    0.017904\n",
       "1               income_annum    0.016672\n",
       "7        luxury_assets_value    0.016375\n",
       "6    commercial_assets_value    0.015694\n",
       "5   residential_assets_value    0.015525\n",
       "8           bank_asset_value    0.014555\n",
       "0           no_of_dependents    0.007798\n",
       "11        self_employed_ Yes    0.002428\n",
       "10       education_ Graduate    0.002287"
      ]
     },
     "execution_count": 171,
     "metadata": {},
     "output_type": "execute_result"
    }
   ],
   "source": [
    "feature_importance = rf.feature_importances_\n",
    "\n",
    "# Create a DataFrame with feature and their corresponding importance\n",
    "feature_importance_df = pd.DataFrame({\n",
    "    'Feature': X.columns,\n",
    "    'Importance': feature_importance\n",
    "})\n",
    "\n",
    "# Sort the DataFrame by importance\n",
    "feature_importance_df = feature_importance_df.sort_values(by='Importance', ascending=False)\n",
    "\n",
    "feature_importance_df"
   ]
  },
  {
   "cell_type": "code",
   "execution_count": 173,
   "id": "fdf79a04-afed-4f85-b41e-1296e83d068d",
   "metadata": {},
   "outputs": [],
   "source": [
    "# Drop less important and redundant features\n",
    "X = df.drop(['loan_status_ Approved', 'luxury_assets_value', 'commercial_assets_value', 'residential_assets_value', \n",
    "             'bank_asset_value', 'no_of_dependents', 'self_employed_ Yes', 'education_ Graduate'],axis=1)\n",
    "y = df['loan_status_ Approved']\n",
    "\n",
    "# Split data\n",
    "X_train, X_test, y_train, y_test = train_test_split(X, y, test_size=0.2, random_state=24)\n",
    "\n",
    "# Convert to numpy arrays\n",
    "X_train = np.array(X_train)\n",
    "X_test = np.array(X_test)\n",
    "y_train = np.array(y_train)\n",
    "y_test = np.array(y_test)"
   ]
  },
  {
   "cell_type": "markdown",
   "id": "7e1a5dc3-277e-44e5-abf8-bef33c479d35",
   "metadata": {},
   "source": [
    "#### Check model performance"
   ]
  },
  {
   "cell_type": "code",
   "execution_count": 175,
   "id": "a6567375-d0e8-4f12-8b1f-899b4061afd3",
   "metadata": {},
   "outputs": [
    {
     "name": "stdout",
     "output_type": "stream",
     "text": [
      "Classification Report:\n",
      "              precision    recall  f1-score   support\n",
      "\n",
      "           0     0.9908    0.9969    0.9938       323\n",
      "           1     0.9981    0.9944    0.9962       531\n",
      "\n",
      "    accuracy                         0.9953       854\n",
      "   macro avg     0.9944    0.9956    0.9950       854\n",
      "weighted avg     0.9953    0.9953    0.9953       854\n",
      "\n",
      "ROC AUC Score: 0.9999\n",
      "Cross-Validation Scores (5-fold):\n",
      "Acc: 0.9810 (+/- 0.00)\n",
      "AUC: 0.9966 (+/- 0.00)\n"
     ]
    }
   ],
   "source": [
    "# Fit model\n",
    "rf = RandomForestClassifier(random_state=42)   \n",
    "rf.fit(X_train, y_train)\n",
    "\n",
    "y_pred = rf.predict(X_test)\n",
    "y_proba = rf.predict_proba(X_test)[:, 1]\n",
    "\n",
    "# Classification report\n",
    "print(\"Classification Report:\")\n",
    "print(classification_report(y_test, y_pred, digits=4))\n",
    "\n",
    "# ROC AUC Score\n",
    "auc = roc_auc_score(y_test, y_proba)\n",
    "print(f\"ROC AUC Score: {auc:.4f}\")\n",
    "\n",
    "# Cross-Validation Scores\n",
    "cv_scores_acc = cross_val_score(rf, X_train, y_train, cv=5, scoring='accuracy')\n",
    "cv_scores_auc = cross_val_score(rf, X_train, y_train, cv=5, scoring='roc_auc')\n",
    "\n",
    "print(\"Cross-Validation Scores (5-fold):\")\n",
    "print(f\"Acc: {cv_scores_acc.mean():.4f} (+/- {cv_scores_acc.std():.2f})\")\n",
    "print(f\"AUC: {cv_scores_auc.mean():.4f} (+/- {cv_scores_auc.std():.2f})\")"
   ]
  },
  {
   "cell_type": "markdown",
   "id": "675f7353-5cd7-4e9b-8efd-2a7c244f388f",
   "metadata": {},
   "source": [
    "#### Explore number of trees\n",
    "\n",
    "The effect of varying the number of trees (n_estimators) in the Random Forest model was evaluated. The model's accuracy was measured across three metrics: training accuracy, cross-validation accuracy, and out-of-bag (OOB) accuracy. As the number of trees increased, both cross-validation accuracy and OOB accuracy improved up to 100 trees, after which they stabilized and showed minimal further improvement. These results suggest that increasing the number of trees beyond 100 offers diminishing returns in terms of model performance. Therefore, 100 trees strikes a good balance between model complexity and predictive performance."
   ]
  },
  {
   "cell_type": "code",
   "execution_count": 178,
   "id": "3691e368-dfa8-4774-a526-643df0fe4669",
   "metadata": {},
   "outputs": [
    {
     "data": {
      "image/png": "[encoded data removed]",
      "text/plain": [
       "<Figure size 800x400 with 1 Axes>"
      ]
     },
     "metadata": {},
     "output_type": "display_data"
    }
   ],
   "source": [
    "values = [20, 50, 100, 150, 200, 300, 400]\n",
    "t_acc = np.array([])\n",
    "cv_acc = np.array([])\n",
    "oob_acc = np.array([])\n",
    "\n",
    "for n in values:\n",
    "    rf = RandomForestClassifier(n_estimators=n, random_state=42, oob_score=True)   \n",
    "    rf.fit(X_train, y_train)\n",
    "\n",
    "    #accuracy score for training set\n",
    "    ACC_train = rf.score(X_train, y_train) \n",
    "    \n",
    "    #cross-validation score\n",
    "    scores = cross_val_score(rf, X_train, y_train, cv=5, scoring='accuracy')\n",
    "    ACC_cross_val = scores.mean()\n",
    "\n",
    "    #out-of-bag score\n",
    "    ACC_oob = rf.oob_score_\n",
    "\n",
    "    #append scores\n",
    "    t_acc = np.append(t_acc, [ACC_train])\n",
    "    cv_acc = np.append(cv_acc, [ACC_cross_val])\n",
    "    oob_acc = np.append(oob_acc, [ACC_oob])\n",
    "\n",
    "fig, ax = plt.subplots(figsize=(8, 4))  \n",
    "ax.plot(values, t_acc, label='Accuracy-Train', marker='o')\n",
    "ax.plot(values, cv_acc, label='Accuracy-XVal', marker='s')\n",
    "ax.plot(values, oob_acc, label='Accuracy-OOB', marker='^')\n",
    "ax.set_ylabel('Accuracy')  \n",
    "ax.set_xlabel('Number of Trees')  \n",
    "ax.legend()  \n",
    "plt.show()"
   ]
  },
  {
   "cell_type": "markdown",
   "id": "0d7c1d9e-a74e-41c5-a0e3-3c8a71c1d27b",
   "metadata": {},
   "source": [
    "#### Perform Grid Search to tune hyperparameters"
   ]
  },
  {
   "cell_type": "code",
   "execution_count": 181,
   "id": "321ae7cf-2eb2-461f-8283-1bd3757e48c0",
   "metadata": {},
   "outputs": [
    {
     "name": "stdout",
     "output_type": "stream",
     "text": [
      "Fitting 5 folds for each of 108 candidates, totalling 540 fits\n",
      "Best parameters found: {'max_depth': 10, 'max_features': 3, 'min_samples_leaf': 2, 'min_samples_split': 2, 'n_estimators': 100}\n"
     ]
    }
   ],
   "source": [
    "# Define the parameter grid for hyperparameter tuning\n",
    "param_grid = {\n",
    "    'n_estimators': [50, 100, 200],   # Number of trees in the forest\n",
    "    'max_depth': [None, 10, 20],      # Maximum depth of the tree\n",
    "    'min_samples_split': [2, 5],      # Minimum number of samples required to split a node\n",
    "    'min_samples_leaf': [1, 2, 4],    # Minimum number of samples required at each leaf node\n",
    "    'max_features': ['sqrt', 3],      # The number of features to consider when looking for the best split\n",
    "}\n",
    "\n",
    "# Set up GridSearchCV to search for the best hyperparameters\n",
    "grid_search = GridSearchCV(estimator=rf, param_grid=param_grid, cv=5, n_jobs=-1, verbose=1)\n",
    "\n",
    "# Fit the grid search to the training data\n",
    "grid_search.fit(X_train, y_train)\n",
    "\n",
    "# Print the best parameters from grid search\n",
    "print(f\"Best parameters found: {grid_search.best_params_}\")"
   ]
  },
  {
   "cell_type": "markdown",
   "id": "f9f4cb4e-3ae7-4fbe-99e7-9f6086ee2e0b",
   "metadata": {},
   "source": [
    "#### Evaluate final model using best parameters"
   ]
  },
  {
   "cell_type": "code",
   "execution_count": 185,
   "id": "8bea274f-14d9-4f1e-aec1-63bd440cc904",
   "metadata": {},
   "outputs": [
    {
     "name": "stdout",
     "output_type": "stream",
     "text": [
      "              precision    recall  f1-score   support\n",
      "\n",
      "           0     0.9907    0.9876    0.9891       323\n",
      "           1     0.9925    0.9944    0.9934       531\n",
      "\n",
      "    accuracy                         0.9918       854\n",
      "   macro avg     0.9916    0.9910    0.9913       854\n",
      "weighted avg     0.9918    0.9918    0.9918       854\n",
      "\n"
     ]
    },
    {
     "data": {
      "image/png": "[encoded data removed]",
      "text/plain": [
       "<Figure size 640x480 with 2 Axes>"
      ]
     },
     "metadata": {},
     "output_type": "display_data"
    },
    {
     "name": "stdout",
     "output_type": "stream",
     "text": [
      "ROC AUC Score: 0.9998\n"
     ]
    },
    {
     "data": {
      "image/png": "[encoded data removed]",
      "text/plain": [
       "<Figure size 600x400 with 1 Axes>"
      ]
     },
     "metadata": {},
     "output_type": "display_data"
    },
    {
     "name": "stdout",
     "output_type": "stream",
     "text": [
      "Cross-Validation Scores (5-fold):\n",
      "Acc: 0.9818 (+/- 0.00)\n",
      "AUC: 0.9973 (+/- 0.00)\n"
     ]
    }
   ],
   "source": [
    "# Make predictions with the best model\n",
    "best_rf = grid_search.best_estimator_\n",
    "y_pred = best_rf.predict(X_test)\n",
    "\n",
    "# Classification report\n",
    "print(classification_report(y_test, y_pred, digits=4))\n",
    "\n",
    "# Confusion matrix\n",
    "cm = confusion_matrix(y_test, y_pred)\n",
    "sns.heatmap(cm, annot=True, fmt='d', cmap='Blues')\n",
    "plt.xlabel(\"Predicted\")\n",
    "plt.ylabel(\"Actual\")\n",
    "plt.title(\"Confusion Matrix - Random Forest\")\n",
    "plt.show()\n",
    "\n",
    "# ROC AUC Score\n",
    "y_proba = best_rf.predict_proba(X_test)[:, 1]  # Get the probability of the positive class\n",
    "auc = roc_auc_score(y_test, y_proba)\n",
    "print(f\"ROC AUC Score: {auc:.4f}\")\n",
    "\n",
    "fpr, tpr, thresholds = roc_curve(y_test, y_proba)\n",
    "\n",
    "plt.figure(figsize=(6, 4))\n",
    "plt.plot(fpr, tpr, label=f'AUC = {auc:.2f}')\n",
    "plt.plot([0, 1], [0, 1], linestyle='--', color='gray')\n",
    "plt.xlabel(\"False Positive Rate\")\n",
    "plt.ylabel(\"True Positive Rate\")\n",
    "plt.title(\"ROC Curve - Random Forest\")\n",
    "plt.legend()\n",
    "plt.show()\n",
    "\n",
    "# Cross-Validation Scores\n",
    "cv_scores_acc = cross_val_score(best_rf, X_train, y_train, cv=5, scoring='accuracy')\n",
    "cv_scores_auc = cross_val_score(best_rf, X_train, y_train, cv=5, scoring='roc_auc')\n",
    "\n",
    "print(\"Cross-Validation Scores (5-fold):\")\n",
    "print(f\"Acc: {cv_scores_acc.mean():.4f} (+/- {cv_scores_acc.std():.2f})\")\n",
    "print(f\"AUC: {cv_scores_auc.mean():.4f} (+/- {cv_scores_auc.std():.2f})\")"
   ]
  },
  {
   "cell_type": "markdown",
   "id": "7f209d87-aafe-43f0-bee3-74e6d09fbde5",
   "metadata": {},
   "source": [
    "#### Logistic Regression vs Random Forest"
   ]
  },
  {
   "cell_type": "code",
   "execution_count": 197,
   "id": "6e4a77ec-f73a-4283-b743-fe659688f392",
   "metadata": {},
   "outputs": [
    {
     "data": {
      "text/html": [
       "<div>\n",
       "<style scoped>\n",
       "    .dataframe tbody tr th:only-of-type {\n",
       "        vertical-align: middle;\n",
       "    }\n",
       "\n",
       "    .dataframe tbody tr th {\n",
       "        vertical-align: top;\n",
       "    }\n",
       "\n",
       "    .dataframe thead th {\n",
       "        text-align: right;\n",
       "    }\n",
       "</style>\n",
       "<table border=\"1\" class=\"dataframe\">\n",
       "  <thead>\n",
       "    <tr style=\"text-align: right;\">\n",
       "      <th></th>\n",
       "      <th>Metric</th>\n",
       "      <th>Logistic Regression</th>\n",
       "      <th>Random Forest</th>\n",
       "    </tr>\n",
       "  </thead>\n",
       "  <tbody>\n",
       "    <tr>\n",
       "      <th>0</th>\n",
       "      <td>Accuracy</td>\n",
       "      <td>0.9204</td>\n",
       "      <td>0.9918</td>\n",
       "    </tr>\n",
       "    <tr>\n",
       "      <th>1</th>\n",
       "      <td>Precision</td>\n",
       "      <td>0.9461</td>\n",
       "      <td>0.9925</td>\n",
       "    </tr>\n",
       "    <tr>\n",
       "      <th>2</th>\n",
       "      <td>Recall</td>\n",
       "      <td>0.9247</td>\n",
       "      <td>0.9944</td>\n",
       "    </tr>\n",
       "    <tr>\n",
       "      <th>3</th>\n",
       "      <td>F1 Score</td>\n",
       "      <td>0.9352</td>\n",
       "      <td>0.9934</td>\n",
       "    </tr>\n",
       "    <tr>\n",
       "      <th>4</th>\n",
       "      <td>AUC</td>\n",
       "      <td>0.9712</td>\n",
       "      <td>0.9998</td>\n",
       "    </tr>\n",
       "  </tbody>\n",
       "</table>\n",
       "</div>"
      ],
      "text/plain": [
       "      Metric  Logistic Regression  Random Forest\n",
       "0   Accuracy               0.9204         0.9918\n",
       "1  Precision               0.9461         0.9925\n",
       "2     Recall               0.9247         0.9944\n",
       "3   F1 Score               0.9352         0.9934\n",
       "4        AUC               0.9712         0.9998"
      ]
     },
     "execution_count": 197,
     "metadata": {},
     "output_type": "execute_result"
    }
   ],
   "source": [
    "# Create dataframe\n",
    "score_data = {\n",
    "    'Metric': ['Accuracy', 'Precision', 'Recall', 'F1 Score', 'AUC'],\n",
    "    'Logistic Regression': [0.9204, 0.9461, 0.9247, 0.9352, 0.9712],\n",
    "    'Random Forest': [0.9918, 0.9925, 0.9944, 0.9934, 0.9998]\n",
    "}\n",
    "\n",
    "score_df = pd.DataFrame(score_data)\n",
    "score_df"
   ]
  },
  {
   "cell_type": "markdown",
   "id": "658ef004-e57a-4332-8e54-1081188def17",
   "metadata": {},
   "source": [
    "### Summary of Results\n",
    "The Random Forest model demonstrated a significant improvement over Logistic Regression, achieving higher scores across all metrics, including accuracy (99.18%), precision (99.25%), and AUC (0.9998). The final model misclassified only 7 samples from the testing data,  demonstrating its high accuracy and reliability. The cross-validation results (98.18% average accuracy and 0.9973 average AUC score) reinforce the model's ability to generalize effectively to unseen data. Overall, Random Forest proves to be a robust and highly precise model, offering excellent predictive performance."
   ]
  }
 ],
 "metadata": {
  "kernelspec": {
   "display_name": "Python [conda env:base] *",
   "language": "python",
   "name": "conda-base-py"
  },
  "language_info": {
   "codemirror_mode": {
    "name": "ipython",
    "version": 3
   },
   "file_extension": ".py",
   "mimetype": "text/x-python",
   "name": "python",
   "nbconvert_exporter": "python",
   "pygments_lexer": "ipython3",
   "version": "3.11.11"
  }
 },
 "nbformat": 4,
 "nbformat_minor": 5
}
